{
 "cells": [
  {
   "cell_type": "markdown",
   "metadata": {},
   "source": [
    "# OneClass Support Vector Machine (SVM) Method for Outlier Detection\n",
    "**Author:** Juan A. Monleón de la Lluvia  \n",
    "**Date:** 29-08-2023  \n",
    "\n",
    "## Description\n",
    "This Jupyter Notebook focuses on identifying outliers in proton-induced experiments data sets. It outlines steps ranging from data preparation to outlier detection using the Support Vector Machine (SVM) method. The notebook provides code examples and explanations to facilitate an efficient analysis workflow."
   ]
  },
  {
   "cell_type": "code",
   "execution_count": null,
   "metadata": {},
   "outputs": [],
   "source": [
    "from EXFOR_ProtonReactions_UtilityFunctions import *\n",
    "import pandas as pd\n",
    "from sklearn.preprocessing import StandardScaler\n",
    "from sklearn.svm import OneClassSVM\n",
    "import numpy as np\n",
    "import warnings\n",
    "warnings.filterwarnings(\"ignore\", category=UserWarning, module=\"sklearn\")\n",
    "pd.set_option('display.max_columns', None)\n",
    "pd.set_option('display.max_rows', 12)"
   ]
  },
  {
   "cell_type": "markdown",
   "metadata": {},
   "source": [
    "## Data Import and Cleaning"
   ]
  },
  {
   "cell_type": "code",
   "execution_count": null,
   "metadata": {},
   "outputs": [],
   "source": [
    "path = r'D:\\OneDrive\\ETSII\\MASTER\\TFM\\Scripts\\exfortables\\EXFOR_ProtonReactions_Classified_Group_2.csv'\n",
    "df = pd.read_csv(path)\n",
    "df = clean_dataframe(df)\n",
    "df"
   ]
  },
  {
   "cell_type": "code",
   "execution_count": null,
   "metadata": {},
   "outputs": [],
   "source": [
    "# Save the IDs and drop them from the dataframe\n",
    "x4_id_column = df['X4_ID'].copy()\n",
    "df_without_id = df.drop('X4_ID', axis=1)"
   ]
  },
  {
   "cell_type": "markdown",
   "metadata": {},
   "source": [
    "## Implementation of the SVM Method"
   ]
  },
  {
   "cell_type": "code",
   "execution_count": null,
   "metadata": {},
   "outputs": [],
   "source": [
    "# Scaling the Data\n",
    "scaler = StandardScaler()\n",
    "scaled_df = scaler.fit_transform(df_without_id)"
   ]
  },
  {
   "cell_type": "code",
   "execution_count": null,
   "metadata": {},
   "outputs": [],
   "source": [
    "# Applying OneClassSVM\n",
    "ocsvm = OneClassSVM(kernel='rbf', nu=0.001)\n",
    "ocsvm.fit(scaled_df)"
   ]
  },
  {
   "cell_type": "code",
   "execution_count": null,
   "metadata": {},
   "outputs": [],
   "source": [
    "# Identifying Outliers\n",
    "pred = ocsvm.predict(scaled_df)\n",
    "outliers = (pred == -1)"
   ]
  },
  {
   "cell_type": "code",
   "execution_count": null,
   "metadata": {},
   "outputs": [],
   "source": [
    "# Reverting the Scaling\n",
    "descaled_df = scaler.inverse_transform(scaled_df)"
   ]
  },
  {
   "cell_type": "code",
   "execution_count": null,
   "metadata": {},
   "outputs": [],
   "source": [
    "# Adding the IDs and extracting the outliers\n",
    "result_df = pd.DataFrame(descaled_df, columns=df_without_id.columns)\n",
    "result_df['X4_ID'] = x4_id_column\n",
    "result_df['outliers'] = outliers\n",
    "outliers_df = result_df[result_df['outliers'] == 1].iloc[:, :-1]\n",
    "print('Percentage of outliers: {:.2f}%'.format(len(outliers_df)/len(df)*100))\n",
    "outliers_df"
   ]
  },
  {
   "cell_type": "markdown",
   "metadata": {},
   "source": [
    "## Visual Representation and Verification of Outliers\n",
    "\n",
    "For the visual representations, the whole data set need to be loaded into memory. This is done by using the `read_experiments_from_binary` function, but also could be done by using the `read_experiments_from_txt` function, both available in the `EXFOR_ProtonReactions_UtilityFunctions.py` file."
   ]
  },
  {
   "cell_type": "code",
   "execution_count": null,
   "metadata": {},
   "outputs": [],
   "source": [
    "experiments = read_experiments_from_binary('EXFOR_ProtonReactions_Database.bin')"
   ]
  },
  {
   "cell_type": "code",
   "execution_count": null,
   "metadata": {},
   "outputs": [],
   "source": [
    "plot_outliers(outliers_df, experiments)"
   ]
  }
 ],
 "metadata": {
  "kernelspec": {
   "display_name": "TFM_ML",
   "language": "python",
   "name": "python3"
  },
  "language_info": {
   "codemirror_mode": {
    "name": "ipython",
    "version": 3
   },
   "file_extension": ".py",
   "mimetype": "text/x-python",
   "name": "python",
   "nbconvert_exporter": "python",
   "pygments_lexer": "ipython3",
   "version": "3.9.16"
  },
  "orig_nbformat": 4
 },
 "nbformat": 4,
 "nbformat_minor": 2
}
