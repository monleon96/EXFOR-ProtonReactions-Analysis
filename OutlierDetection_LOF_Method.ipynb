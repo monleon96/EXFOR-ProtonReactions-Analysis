{
 "cells": [
  {
   "cell_type": "markdown",
   "metadata": {},
   "source": [
    "# Local Outlier Factor (LOF) Method for Outlier Detection\n",
    "**Author:** Juan A. Monleón de la Lluvia  \n",
    "**Date:** 29-08-2023  \n",
    "\n",
    "## Description\n",
    "This Jupyter Notebook focuses on identifying outliers in proton-induced experiments data sets. It outlines steps ranging from data preparation to outlier detection using the LOF method. The notebook provides code examples and explanations to facilitate an efficient analysis workflow."
   ]
  },
  {
   "cell_type": "code",
   "execution_count": null,
   "metadata": {},
   "outputs": [],
   "source": [
    "from EXFOR_ProtonReactions_UtilityFunctions import *\n",
    "import pandas as pd\n",
    "from sklearn.preprocessing import StandardScaler\n",
    "from sklearn.neighbors import LocalOutlierFactor\n",
    "import numpy as np\n",
    "import warnings\n",
    "warnings.filterwarnings(\"ignore\", category=UserWarning, module=\"sklearn\")\n",
    "pd.set_option('display.max_columns', None)\n",
    "pd.set_option('display.max_rows', 12)"
   ]
  },
  {
   "cell_type": "markdown",
   "metadata": {},
   "source": [
    "## Data Import and Cleaning"
   ]
  },
  {
   "cell_type": "code",
   "execution_count": null,
   "metadata": {},
   "outputs": [],
   "source": [
    "df = pd.read_csv(r'D:\\OneDrive\\ETSII\\MASTER\\TFM\\Scripts\\exfortables\\by_data\\group_6.csv')\n",
    "df = clean_dataframe(df)\n",
    "df"
   ]
  },
  {
   "cell_type": "code",
   "execution_count": null,
   "metadata": {},
   "outputs": [],
   "source": [
    "# Save the IDs and drop them from the dataframe\n",
    "X4_ID = df['X4_ID']\n",
    "df_without_id = df.drop(columns=['X4_ID'])"
   ]
  },
  {
   "cell_type": "markdown",
   "metadata": {},
   "source": [
    "## Implementation of LOF Method"
   ]
  },
  {
   "cell_type": "code",
   "execution_count": null,
   "metadata": {},
   "outputs": [],
   "source": [
    "# Scaling the Data\n",
    "scaler = StandardScaler()\n",
    "df_scaled = scaler.fit_transform(df_without_id)"
   ]
  },
  {
   "cell_type": "code",
   "execution_count": null,
   "metadata": {},
   "outputs": [],
   "source": [
    "# Applying the LOF algorithm\n",
    "lof = LocalOutlierFactor(n_neighbors=20, contamination=0.01)\n",
    "outliers = lof.fit_predict(df_scaled)"
   ]
  },
  {
   "cell_type": "code",
   "execution_count": null,
   "metadata": {},
   "outputs": [],
   "source": [
    "# Identifying Outliers\n",
    "is_outlier = outliers == -1"
   ]
  },
  {
   "cell_type": "code",
   "execution_count": null,
   "metadata": {},
   "outputs": [],
   "source": [
    "# Reverting the Scaling\n",
    "df_descaled = pd.DataFrame(scaler.inverse_transform(df_scaled), columns=df_without_id.columns)"
   ]
  },
  {
   "cell_type": "code",
   "execution_count": null,
   "metadata": {},
   "outputs": [],
   "source": [
    "# Adding the IDs and extracting the outliers\n",
    "df_descaled['X4_ID'] = X4_ID\n",
    "df_descaled['is_outlier'] = is_outlier"
   ]
  },
  {
   "cell_type": "code",
   "execution_count": null,
   "metadata": {},
   "outputs": [],
   "source": [
    "# Save on outliers_df the dataframe where is_outlier is True and remove that column\n",
    "outliers_df = df_descaled[df_descaled['is_outlier'] == True].drop('is_outlier', axis=1)\n",
    "print('Percentage of outliers: {:.2f}%'.format(len(outliers_df)/len(df)*100))\n",
    "outliers_df"
   ]
  },
  {
   "cell_type": "markdown",
   "metadata": {},
   "source": [
    "## Visual Representation and Verification of Outliers\n",
    "\n",
    "For the visual representations, the whole data set need to be loaded into memory. This is done by using the `read_experiments_from_binary` function, but also could be done by using the `read_experiments_from_txt` function, both available in the `EXFOR_ProtonReactions_UtilityFunctions.py` file."
   ]
  },
  {
   "cell_type": "code",
   "execution_count": null,
   "metadata": {},
   "outputs": [],
   "source": [
    "experiments = read_experiments_from_binary('EXFOR_ProtonReactions_Database.bin')"
   ]
  },
  {
   "cell_type": "code",
   "execution_count": null,
   "metadata": {},
   "outputs": [],
   "source": [
    "plot_outliers(outliers_df, experiments, ylog=True)"
   ]
  }
 ],
 "metadata": {
  "kernelspec": {
   "display_name": "TFM_ML",
   "language": "python",
   "name": "python3"
  },
  "language_info": {
   "codemirror_mode": {
    "name": "ipython",
    "version": 3
   },
   "file_extension": ".py",
   "mimetype": "text/x-python",
   "name": "python",
   "nbconvert_exporter": "python",
   "pygments_lexer": "ipython3",
   "version": "3.9.16"
  },
  "orig_nbformat": 4
 },
 "nbformat": 4,
 "nbformat_minor": 2
}
