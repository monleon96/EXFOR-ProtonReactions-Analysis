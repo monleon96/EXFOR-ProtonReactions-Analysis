{
 "cells": [
  {
   "cell_type": "markdown",
   "metadata": {},
   "source": [
    "# Data Preprocessing for Proton-Induced Experiments\n",
    "**Author:** Juan A. Monleón de la Lluvia  \n",
    "**Date:** 29-08-2023  \n",
    "\n",
    "## Description\n",
    "This Jupyter Notebook serves as a guide for preprocessing proton-induced experiments. \n",
    "It covers various aspects such as reading experiments from EXFORTABLES, data transformation, \n",
    "and saving experiments to different formats. The notebook is equipped with code snippets \n",
    "and explanations to facilitate a seamless preprocessing workflow.\n"
   ]
  },
  {
   "cell_type": "code",
   "execution_count": null,
   "metadata": {},
   "outputs": [],
   "source": [
    "from EXFOR_ProtonReactions_UtilityFunctions import *\n",
    "import pandas as pd\n",
    "pd.set_option('display.max_columns', 7)\n",
    "pd.set_option('display.max_rows', 12)"
   ]
  },
  {
   "cell_type": "markdown",
   "metadata": {},
   "source": [
    "## Reading Proton Experiments from EXFORTABLES\n",
    "\n",
    "This section assumes that the experiments are organized according to the EXFORTABLES format. The required path should point to the directory containing proton-induced experiments, which are identified by the prefix 'p' in EXFORTABLES."
   ]
  },
  {
   "cell_type": "code",
   "execution_count": null,
   "metadata": {},
   "outputs": [],
   "source": [
    "path = r'D:\\OneDrive\\ETSII\\MASTER\\TFM\\Documentacion EXFOR\\exfortables\\p'\n",
    "experiments = read_proton_experiments_from_exfortables(path)"
   ]
  },
  {
   "cell_type": "markdown",
   "metadata": {},
   "source": [
    "## Saving Experiments to a Single File (Binary and Text Formats)"
   ]
  },
  {
   "cell_type": "code",
   "execution_count": null,
   "metadata": {},
   "outputs": [],
   "source": [
    "write_experiments_to_binary(experiments, 'EXFOR_ProtonReactions_Database.bin')\n",
    "write_experiments_to_txt(experiments, 'EXFOR_ProtonReactions_Database.txt')"
   ]
  },
  {
   "cell_type": "markdown",
   "metadata": {},
   "source": [
    "## File Transfer and Reading Capabilities\n",
    "\n",
    "The files created can be transferred and accessed on any computer, irrespective of whether it has EXFORTABLES installed. \n",
    "\n",
    "For practical purposes, it is sufficient to read only the binary files, which offers a faster loading time compared to text files.\n"
   ]
  },
  {
   "cell_type": "code",
   "execution_count": null,
   "metadata": {},
   "outputs": [],
   "source": [
    "exp_from_bin = read_experiments_from_binary('EXFOR_ProtonReactions_Database.bin')\n",
    "exp_from_txt = read_experiments_from_txt('EXFOR_ProtonReactions_Database.txt')"
   ]
  },
  {
   "cell_type": "markdown",
   "metadata": {},
   "source": [
    "## Accessing Experiment Data\n",
    "\n",
    "To retrieve data associated with any specific experiment from the list, you can use Python's `print` function. This allows you to inspect the raw data.\n"
   ]
  },
  {
   "cell_type": "code",
   "execution_count": null,
   "metadata": {},
   "outputs": [],
   "source": [
    "print(exp_from_bin[3])"
   ]
  },
  {
   "cell_type": "markdown",
   "metadata": {},
   "source": [
    "### Displaying the Experiment's Results DataFrame\n",
    "\n",
    "For a more structured view, you can display just the results DataFrame for an experiment.\n"
   ]
  },
  {
   "cell_type": "code",
   "execution_count": null,
   "metadata": {},
   "outputs": [],
   "source": [
    "exp_from_bin[3].data"
   ]
  },
  {
   "cell_type": "markdown",
   "metadata": {},
   "source": [
    "### Converting an Experiment to a DataFrame\n",
    "\n",
    "To represent all the information related to an experiment as a DataFrame, you can use the `to_dataframe()` method.\n"
   ]
  },
  {
   "cell_type": "code",
   "execution_count": null,
   "metadata": {},
   "outputs": [],
   "source": [
    "exp_from_bin[3].to_dataframe()"
   ]
  },
  {
   "cell_type": "markdown",
   "metadata": {},
   "source": [
    "## Plotting Experiment Results\n",
    "\n",
    "### Basic Plotting\n",
    "\n",
    "You can visualize the experiment's results through a plot, with an option to employ a logarithmic scale on the y-axis.\n"
   ]
  },
  {
   "cell_type": "code",
   "execution_count": null,
   "metadata": {},
   "outputs": [],
   "source": [
    "exp_from_bin[0].plot(ylog=True)"
   ]
  },
  {
   "cell_type": "markdown",
   "metadata": {},
   "source": [
    "### Plotting with Error Bars\n",
    "\n",
    "If error information is available for the experiment, error bars will be included in the plot.\n"
   ]
  },
  {
   "cell_type": "code",
   "execution_count": null,
   "metadata": {},
   "outputs": [],
   "source": [
    "exp_from_bin[2135].plot(ylog=True)"
   ]
  },
  {
   "cell_type": "markdown",
   "metadata": {},
   "source": [
    "## Analyzing and Filtering Experiments\n",
    "\n",
    "### Checking Unique Attribute Values\n",
    "\n",
    "You can identify unique values for a specific attribute across all experiments using the `get_unique_values` function. For instance, to get unique MT values:\n"
   ]
  },
  {
   "cell_type": "code",
   "execution_count": null,
   "metadata": {},
   "outputs": [],
   "source": [
    "MT_values = get_unique_values(exp_from_bin, 'MT')\n",
    "print(MT_values)"
   ]
  },
  {
   "cell_type": "markdown",
   "metadata": {},
   "source": [
    "### Filtering Experiments by Attribute\n",
    "\n",
    "To filter experiments based on the value of a particular attribute, you can use `filter_experiments`.\n"
   ]
  },
  {
   "cell_type": "code",
   "execution_count": null,
   "metadata": {},
   "outputs": [],
   "source": [
    "MT42_exp = filter_experiments(exp_from_bin, 'MT', 42)"
   ]
  },
  {
   "cell_type": "markdown",
   "metadata": {},
   "source": [
    "### Batch Plotting\n",
    "\n",
    "You can plot multiple experiments in one view, which is useful for comparative analysis.\n"
   ]
  },
  {
   "cell_type": "code",
   "execution_count": null,
   "metadata": {},
   "outputs": [],
   "source": [
    "plot_experiments(MT42_exp)"
   ]
  },
  {
   "cell_type": "markdown",
   "metadata": {},
   "source": [
    "## Classifying Experiments and Preparing for Machine Learning\n",
    "\n",
    "### Classifying by Data Type\n",
    "\n",
    "This operation performs a classification based on the data type of each experiment. It also generates `.csv` files after applying One-Hot Encoding to the attributes. Note that this step can be time-consuming.\n"
   ]
  },
  {
   "cell_type": "code",
   "execution_count": null,
   "metadata": {},
   "outputs": [],
   "source": [
    "df = classify_experiments_by_data(exp_from_bin)"
   ]
  },
  {
   "cell_type": "markdown",
   "metadata": {},
   "source": [
    "### Importing Classified Data\n",
    "\n",
    "Once the `.csv` files are ready, they can be imported into another notebook for machine learning tasks.\n"
   ]
  },
  {
   "cell_type": "code",
   "execution_count": null,
   "metadata": {},
   "outputs": [],
   "source": [
    "df = pd.read_csv('EXFOR_ProtonReactions_Classified_Group_1.csv')\n",
    "df"
   ]
  },
  {
   "cell_type": "markdown",
   "metadata": {},
   "source": [
    "## Handling Missing Values in 'final_A'\n",
    "\n",
    "### Segregating DataFrames\n",
    "\n",
    "In case of Group_4, the attribute 'final_A' may contain `NaN` values. For the purpose of machine learning, it is recommended to segregate these into separate DataFrames.\n"
   ]
  },
  {
   "cell_type": "code",
   "execution_count": null,
   "metadata": {},
   "outputs": [],
   "source": [
    "df = pd.read_csv('EXFOR_ProtonReactions_Classified_Group_4.csv')\n",
    "# Separate the DataFrame in two DataFrames, one with NaN values and the other with not NaN values\n",
    "df_nan = df[df['final_A'].isna()]\n",
    "df_not_nan = df[df['final_A'].notna()]"
   ]
  },
  {
   "cell_type": "markdown",
   "metadata": {},
   "source": [
    "### Saving Segregated DataFrames\n",
    "\n",
    "After segregation, the DataFrames can be saved into separate `.csv` files for subsequent machine learning tasks.\n"
   ]
  },
  {
   "cell_type": "code",
   "execution_count": null,
   "metadata": {},
   "outputs": [],
   "source": [
    "# Save the two DataFrames in separate csv files\n",
    "df_nan.to_csv('EXFOR_ProtonReactions_Classified_Group_4_1.csv', index=False)\n",
    "df_not_nan.to_csv('EXFOR_ProtonReactions_Classified_Group_4_2.csv', index=False)"
   ]
  },
  {
   "cell_type": "code",
   "execution_count": null,
   "metadata": {},
   "outputs": [],
   "source": [
    "df = pd.read_csv('EXFOR_ProtonReactions_Classified_Group_4_2.csv')\n",
    "df"
   ]
  }
 ],
 "metadata": {
  "kernelspec": {
   "display_name": "TFM_ML",
   "language": "python",
   "name": "python3"
  },
  "language_info": {
   "codemirror_mode": {
    "name": "ipython",
    "version": 3
   },
   "file_extension": ".py",
   "mimetype": "text/x-python",
   "name": "python",
   "nbconvert_exporter": "python",
   "pygments_lexer": "ipython3",
   "version": "3.9.16"
  },
  "orig_nbformat": 4
 },
 "nbformat": 4,
 "nbformat_minor": 2
}
